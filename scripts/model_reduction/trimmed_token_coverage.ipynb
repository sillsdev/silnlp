{
 "cells": [
  {
   "cell_type": "markdown",
   "metadata": {},
   "source": [
    "### Token coverage of data by trimmed models"
   ]
  },
  {
   "cell_type": "code",
   "execution_count": null,
   "metadata": {},
   "outputs": [],
   "source": [
    "from machine.corpora import FileParatextProjectTextUpdater, FileParatextProjectSettingsParser, UsfmFileText, ScriptureRef, UsfmTextType\n",
    "from pathlib import Path\n",
    "from typing import List"
   ]
  },
  {
   "cell_type": "code",
   "execution_count": null,
   "metadata": {},
   "outputs": [],
   "source": [
    "project_dir = Path(\"test_S/Paratext/projects/RVR1960\")\n",
    "book = \"1JN\"\n",
    "\n",
    "src_settings = FileParatextProjectSettingsParser(project_dir).parse()\n",
    "src_file_text = UsfmFileText(\n",
    "    src_settings.stylesheet,\n",
    "    src_settings.encoding,\n",
    "    book,\n",
    "    project_dir / src_settings.get_book_file_name(book),\n",
    "    src_settings.versification,\n",
    "    include_all_text=True,\n",
    "    project=src_settings.name,\n",
    ")\n",
    "\n",
    "for s in src_file_text:\n",
    "    print(type(s))\n",
    "    break\n",
    "\n",
    "# sentences = [s.text.strip() for s in src_file_text]\n",
    "# vrefs: List[ScriptureRef] = [s.ref for s in src_file_text]\n",
    "\n",
    "# for i in range(len(sentences)):\n",
    "#     if vrefs[i].chapter_num == 3:\n",
    "#         sentences[i] = \"\"\n",
    "\n",
    "# trg_dir = Path(\"test_S/Paratext/projects/NIV11\")\n",
    "# dest_updater = FileParatextProjectTextUpdater(trg_dir)\n",
    "# rows = [([ref], translation) for ref, translation in zip(vrefs, sentences)]\n",
    "# usfm_out = dest_updater.update_usfm(\n",
    "#     src_file_text.id, rows, strip_all_text=False, prefer_existing_text=False\n",
    "# )\n",
    "# with open(\"out.SFM\", \"w\", encoding=src_settings.encoding) as f:\n",
    "#     f.write(usfm_out)"
   ]
  },
  {
   "cell_type": "code",
   "execution_count": null,
   "metadata": {},
   "outputs": [],
   "source": [
    "from transformers import AutoTokenizer\n",
    "\n",
    "lang = \"Rajbanshi\"\n",
    "data_fnames = [\"align.src.detok.txt\", \"align.trg.detok.txt\", \"val.src.detok.txt\", \"val.trg.detok.txt\", \"test.src.detok.txt\"]\n",
    "data = []\n",
    "for fname in data_fnames:\n",
    "    # if \"src\" in fname:\n",
    "    #     continue\n",
    "    with open(f\"zzz_data/{lang}/{fname}\", \"r\", encoding=\"utf-8-sig\") as f:\n",
    "        data += [line.strip() for line in f.readlines()]\n",
    "data_trg = []\n",
    "with open(f\"zzz_data/{lang}/test.trg.detok.txt\", \"r\", encoding=\"utf-8-sig\") as f:\n",
    "    data_trg += [line.strip() for line in f.readlines()]\n",
    "\n",
    "tokenizer = AutoTokenizer.from_prealigned(\"facebook/nllb-200-distilled-1.3B\", use_fast=False)\n",
    "\n",
    "data_ids = tokenizer(data, add_special_tokens=False)[\"input_ids\"]\n",
    "data_ids_trg = tokenizer(data_trg, add_special_tokens=False)[\"input_ids\"]"
   ]
  },
  {
   "cell_type": "code",
   "execution_count": null,
   "metadata": {},
   "outputs": [],
   "source": [
    "total_ids = 0\n",
    "vocab = set()\n",
    "for ids in data_ids:\n",
    "    total_ids += len(ids)\n",
    "    vocab.update(ids)\n",
    "\n",
    "total_trg_ids = 0\n",
    "vocab_trg = set()\n",
    "for ids in data_ids_trg:\n",
    "    total_trg_ids += len(ids)\n",
    "    vocab_trg.update(ids)\n",
    "\n",
    "raw_coverage = len(vocab_trg.intersection(vocab))\n",
    "tokens_covered = 0\n",
    "for ids in data_ids_trg:\n",
    "    for id in ids:\n",
    "        tokens_covered += id in vocab\n",
    "\n",
    "print(total_ids, len(vocab))\n",
    "print(total_trg_ids, len(vocab_trg))\n",
    "print(raw_coverage, raw_coverage / len(vocab_trg))\n",
    "print(tokens_covered, tokens_covered / total_trg_ids)\n"
   ]
  },
  {
   "cell_type": "code",
   "execution_count": null,
   "metadata": {},
   "outputs": [],
   "source": [
    "import pandas as pd\n",
    "\n",
    "verse_counts_df = pd.read_csv(\"verse_counts_orig.csv\", index_col=\"file\")\n",
    "print(verse_counts_df)\n",
    "\n",
    "# .sort_index().astype(int)\n",
    "verse_counts_df.to_csv(\"verse_counts_mod.csv\")"
   ]
  }
 ],
 "metadata": {
  "kernelspec": {
   "display_name": ".venv",
   "language": "python",
   "name": "python3"
  },
  "language_info": {
   "codemirror_mode": {
    "name": "ipython",
    "version": 3
   },
   "file_extension": ".py",
   "mimetype": "text/x-python",
   "name": "python",
   "nbconvert_exporter": "python",
   "pygments_lexer": "ipython3",
   "version": "3.10.12"
  }
 },
 "nbformat": 4,
 "nbformat_minor": 2
}
