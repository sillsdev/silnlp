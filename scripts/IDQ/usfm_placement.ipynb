{
 "cells": [
  {
   "cell_type": "markdown",
   "id": "e02d8597",
   "metadata": {},
   "source": [
    "## USFM marker placement research\n",
    "\n",
    "helpers and processes for efficiently evaluating potential improvements"
   ]
  },
  {
   "cell_type": "markdown",
   "id": "4bf5f56a",
   "metadata": {},
   "source": [
    "### Scripts for vetting and prepping test pairs\n",
    "\n",
    "To be able to treat a pair of USFM files as a source-draft pair for the purposes of evaluating marker placement, they need to have the exact same USFM structure, meaning that when parsed, they have the exact same set of ScriptureRefs. To be useful, they also need to use paragraph/style markers in the exact same way, at least in enough verses to make testing worthwile.  Once you have a pair that is likely to be similar (e.g. the \"draft\" is a book produced by a translation team and you know their source/reference), these scripts help to speed up the process of making sure they are fully compatible.\n",
    "\n",
    "The code under \"Find vref differences\" helps to identify differences in the sets of ScriptureRefs. The two main differences are usually non-verse paragraphs (like remarks and section headers) and verse ranges. Since non-verse paragraphs are not relevant to this task, I usually delete all of them from both files (\"Remove embeds in place\"). For verse ranges, I will either turn the equivalent verses in the other file into a verse range as well, or I will delete those verses from both files if there is already enough data without them.\n",
    "\n",
    "The code under \"Print out all paragraph and character markers for a book\" does just that on a by-verse basis. This is the most helpful in deciding whether or not to use a pair of files for evaluation. Since it is normally not easy to determine where paragraph/style markers should go in one translation given their placement in another, it is pretty much a necessity for a pair of files to have enough verses with the same set of markers from the get-go. Of course, having the same set of markers does not guarantee that they are being used in the same way, but it is a necessary assumption given the lack of true ground truth data. I typically look for 2-3 chapters (more if they match up well) that have a fair number of markers of the types that I'm looking for and then for each marker discrepancy in those chapters, I either delete the conflicting marker(s) or add/change marker labels if it's obvious what is causing the difference. As long as you only score the placement of the chapters you want to test (more on that below), you don't have to worry about mismatched paragraph or style markers getting placed elsewhere in the book."
   ]
  },
  {
   "cell_type": "markdown",
   "id": "2fbca8fb",
   "metadata": {},
   "source": [
    "Remove embeds in place"
   ]
  },
  {
   "cell_type": "code",
   "execution_count": null,
   "id": "d48de4b8",
   "metadata": {},
   "outputs": [],
   "source": [
    "from pathlib import Path\n",
    "from machine.corpora import UpdateUsfmParserHandler, UpdateUsfmMarkerBehavior, UpdateUsfmTextBehavior, parse_usfm\n",
    "\n",
    "file_path = Path(\"\")\n",
    "encoding = \"utf-8-sig\" # utf-8-sig cp1252\n",
    "with file_path.open(encoding=encoding) as f:\n",
    "    usfm = f.read()\n",
    "handler = UpdateUsfmParserHandler(\n",
    "    rows=[],\n",
    "    text_behavior=UpdateUsfmTextBehavior.PREFER_EXISTING,\n",
    "    paragraph_behavior=UpdateUsfmMarkerBehavior.PRESERVE,\n",
    "    embed_behavior=UpdateUsfmMarkerBehavior.STRIP,\n",
    "    style_behavior=UpdateUsfmMarkerBehavior.PRESERVE,\n",
    "    preserve_paragraph_styles=[],\n",
    ")\n",
    "parse_usfm(usfm, handler)\n",
    "with file_path.open(\"w\", encoding=encoding) as f:\n",
    "    f.write(handler.get_usfm())"
   ]
  },
  {
   "cell_type": "markdown",
   "id": "9f97d3d8",
   "metadata": {},
   "source": [
    "Find vref differences"
   ]
  },
  {
   "cell_type": "code",
   "execution_count": null,
   "id": "df8adb29",
   "metadata": {},
   "outputs": [],
   "source": [
    "from pathlib import Path\n",
    "\n",
    "src_fpath = Path(\"\")\n",
    "trg_fpath = Path(\"\")\n",
    "src_out = Path(\"vrefs_src.txt\")\n",
    "trg_out = Path(\"vrefs_trg.txt\")\n",
    "\n",
    "ignore = [\"q1\", \"q2\", \"p\", \"b\", \"li1\", \"q\" , \"m\"]\n",
    "\n",
    "# utf-8-sig cp1252\n",
    "with src_fpath.open(encoding=\"utf-8-sig\") as f, src_out.open(\"w\") as out:\n",
    "    for line in f:\n",
    "        marker = line.split(\" \")[0].strip() + \"\\n\"\n",
    "        if not any(marker[1:-1].startswith(p) for p in ignore):\n",
    "            out.write(marker)\n",
    "with trg_fpath.open(encoding=\"utf-8-sig\") as f, trg_out.open(\"w\") as out:\n",
    "    for line in f:\n",
    "        marker = line.split(\" \")[0].strip() + \"\\n\"\n",
    "        if not any(marker[1:-1].startswith(p) for p in ignore):\n",
    "            out.write(marker)"
   ]
  },
  {
   "cell_type": "markdown",
   "id": "9496f471",
   "metadata": {},
   "source": [
    "Print out all paragraph and character markers for a book"
   ]
  },
  {
   "cell_type": "code",
   "execution_count": null,
   "id": "3739ca7c",
   "metadata": {},
   "outputs": [],
   "source": [
    "from pathlib import Path\n",
    "from machine.corpora import FileParatextProjectSettingsParser, UsfmFileText, UsfmTokenizer, UsfmTokenType\n",
    "\n",
    "book = \"HEB\"\n",
    "src_proj_path = Path(\"\")\n",
    "src_book_path = Path(\"\")\n",
    "trg_proj_path = Path(\"\")\n",
    "trg_book_path = Path(\"\")\n",
    "src_out = Path(\"markers_src.txt\")\n",
    "trg_out = Path(\"markers_trg.txt\")\n",
    "\n",
    "all_markers = set()\n",
    "\n",
    "# file 1\n",
    "settings = FileParatextProjectSettingsParser(src_proj_path).parse()\n",
    "file_text = UsfmFileText(settings.stylesheet,settings.encoding,book,src_book_path,include_markers=True,include_all_text=True,project=settings.name)\n",
    "\n",
    "to_delete = []\n",
    "vrefs = []\n",
    "usfm_markers = []\n",
    "usfm_tokenizer = UsfmTokenizer(settings.stylesheet)\n",
    "for sent in file_text:\n",
    "    if len(sent.ref.path) > 0 and sent.ref.path[-1].name == \"rem\":\n",
    "        continue\n",
    "\n",
    "    vrefs.append(sent.ref)\n",
    "    usfm_markers.append([])\n",
    "    usfm_toks = usfm_tokenizer.tokenize(sent.text.strip())\n",
    "    \n",
    "    ignore_scope = None\n",
    "    for j, tok in enumerate(usfm_toks):\n",
    "        if ignore_scope is not None:\n",
    "            if tok.type == UsfmTokenType.END and tok.marker[:-1] == ignore_scope.marker:\n",
    "                ignore_scope = None\n",
    "        elif tok.type == UsfmTokenType.NOTE or (tok.type == UsfmTokenType.CHARACTER and tok.marker in to_delete):\n",
    "            ignore_scope = tok\n",
    "        elif tok.type in [UsfmTokenType.PARAGRAPH, UsfmTokenType.CHARACTER, UsfmTokenType.END]:\n",
    "            usfm_markers[-1].append(tok.marker)\n",
    "            all_markers.add(tok.marker.strip(\"+*\"))\n",
    "\n",
    "with src_out.open(\"w\", encoding=settings.encoding) as f:\n",
    "    for ref, markers in zip(vrefs, usfm_markers):\n",
    "        f.write(f\"{ref} {markers}\\n\")\n",
    "\n",
    "chapter_totals = [0]\n",
    "curr_chapter = 1\n",
    "for ref, markers in zip(vrefs, usfm_markers):\n",
    "    if ref.chapter_num != curr_chapter:\n",
    "        chapter_totals.append(0)\n",
    "        curr_chapter += 1\n",
    "    chapter_totals[-1] += len(markers)\n",
    "with Path(\"marker_counts_src.txt\").open(\"w\", encoding=settings.encoding) as f:\n",
    "    f.write(f\"{chapter_totals}\\n\")\n",
    "    for ref, markers in zip(vrefs, usfm_markers):\n",
    "        f.write(f\"{ref} {len(markers)}\\n\")\n",
    "\n",
    "\n",
    "# file 2\n",
    "settings = FileParatextProjectSettingsParser(trg_proj_path).parse()\n",
    "file_text = UsfmFileText(settings.stylesheet,settings.encoding,book,trg_book_path,include_markers=True,include_all_text=True,project=settings.name)\n",
    "\n",
    "vrefs = []\n",
    "usfm_markers = []\n",
    "usfm_tokenizer = UsfmTokenizer(settings.stylesheet)\n",
    "for sent in file_text:\n",
    "    if len(sent.ref.path) > 0 and sent.ref.path[-1].name == \"rem\":\n",
    "        continue\n",
    "\n",
    "    vrefs.append(sent.ref)\n",
    "    usfm_markers.append([])\n",
    "    usfm_toks = usfm_tokenizer.tokenize(sent.text.strip())\n",
    "    \n",
    "    ignore_scope = None\n",
    "    for j, tok in enumerate(usfm_toks):\n",
    "        if ignore_scope is not None:\n",
    "            if tok.type == UsfmTokenType.END and tok.marker[:-1] == ignore_scope.marker:\n",
    "                ignore_scope = None\n",
    "        elif tok.type == UsfmTokenType.NOTE or (tok.type == UsfmTokenType.CHARACTER and tok.marker in to_delete):\n",
    "            ignore_scope = tok\n",
    "        elif tok.type in [UsfmTokenType.PARAGRAPH, UsfmTokenType.CHARACTER, UsfmTokenType.END]:\n",
    "            usfm_markers[-1].append(tok.marker)\n",
    "            all_markers.add(tok.marker.strip(\"+*\"))\n",
    "\n",
    "with trg_out.open(\"w\", encoding=settings.encoding) as f:\n",
    "    for ref, markers in zip(vrefs, usfm_markers):\n",
    "        f.write(f\"{ref} {markers}\\n\")\n",
    "\n",
    "chapter_totals = [0]\n",
    "curr_chapter = 1\n",
    "for ref, markers in zip(vrefs, usfm_markers):\n",
    "    if ref.chapter_num != curr_chapter:\n",
    "        chapter_totals.append(0)\n",
    "        curr_chapter += 1\n",
    "    chapter_totals[-1] += len(markers)\n",
    "with Path(\"marker_counts_trg.txt\").open(\"w\", encoding=settings.encoding) as f:\n",
    "    f.write(f\"{chapter_totals}\\n\")\n",
    "    for ref, markers in zip(vrefs, usfm_markers):\n",
    "        f.write(f\"{ref} {len(markers)}\\n\")\n",
    "\n",
    "print(all_markers)"
   ]
  },
  {
   "cell_type": "markdown",
   "id": "4b8151ea",
   "metadata": {},
   "source": [
    "### Running and evaluating marker placement\n",
    "\n",
    "silnlp.common.postprocess_draft can be used with the `--source` and `--draft` (and `--book`) options to run marker placement. Even though the draft file will already have correctly placed markers in it, only the text of the file will be used.\n",
    "\n",
    "To evaluate the quality of the marker placement, use silnlp.common.compare_usfm_structure, where `gold` is the \"draft\" with the correctly placed markers and `pred` is the file output by the postprocess_draft script. To only evaluate over the chapters that have corrected marker placements, any chapters that do not have corrected placements need to be removed from the files (script below)."
   ]
  },
  {
   "cell_type": "markdown",
   "id": "1e2d2b9d",
   "metadata": {},
   "source": [
    "Cut out chapters"
   ]
  },
  {
   "cell_type": "code",
   "execution_count": null,
   "id": "fe68ccca",
   "metadata": {},
   "outputs": [],
   "source": [
    "from pathlib import Path\n",
    "\n",
    "file_path = Path(\"\")\n",
    "out_path = Path(\"\")\n",
    "chapters = [] # chapters to KEEP\n",
    "lines = []\n",
    "skip = True\n",
    "encoding = \"utf-8-sig\" # utf-8-sig cp1252\n",
    "with file_path.open(encoding=encoding) as f:\n",
    "    for line in f:\n",
    "        if line.startswith(\"\\\\c\"):\n",
    "            skip = int(line.split(\" \")[1].strip()) not in chapters\n",
    "        if not skip or line.startswith(\"\\\\id\"):\n",
    "            lines.append(line)\n",
    "\n",
    "with out_path.open(\"w\", encoding=encoding) as f:\n",
    "    f.writelines(lines)"
   ]
  }
 ],
 "metadata": {
  "kernelspec": {
   "display_name": ".venv",
   "language": "python",
   "name": "python3"
  },
  "language_info": {
   "codemirror_mode": {
    "name": "ipython",
    "version": 3
   },
   "file_extension": ".py",
   "mimetype": "text/x-python",
   "name": "python",
   "nbconvert_exporter": "python",
   "pygments_lexer": "ipython3",
   "version": "3.10.12"
  }
 },
 "nbformat": 4,
 "nbformat_minor": 5
}
